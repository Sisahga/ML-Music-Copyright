{
 "cells": [
  {
   "metadata": {},
   "cell_type": "markdown",
   "source": [
    "COMP 432 - Machine Learning<br>\n",
    "Winter 2025<br>\n",
    "Final Project<br>\n",
    "By Sisahga Phimmasone (40210015)<br>\n",
    "April 20th, 2025<br>\n"
   ],
   "id": "b41bf3e220dbace6"
  },
  {
   "metadata": {
    "tags": [
     "Convert YouTube to MP3"
    ]
   },
   "cell_type": "code",
   "source": [
    "\"\"\"\n",
    "Convert YouTube video links of songs to MP3\n",
    "\n",
    "This is a script to convert YouTube video links of the copyrighted pairs of songs from the 'copyright_cases.csv' file.\n",
    "Uses yt_dlp\n",
    "\"\"\"\n",
    "\n",
    "import yt_dlp\n",
    "import pandas as pd\n",
    "import os\n",
    "import re"
   ],
   "id": "3917e72eaf277278",
   "outputs": [],
   "execution_count": null
  },
  {
   "metadata": {},
   "cell_type": "code",
   "source": [
    "output_dir = \"songs_mp3\"\n",
    "os.makedirs(output_dir, exist_ok=True)\n",
    "\n",
    "df = pd.read_csv(\"copyright_cases.csv\")"
   ],
   "id": "c1ca5f777de7ce66",
   "outputs": [],
   "execution_count": null
  },
  {
   "metadata": {},
   "cell_type": "code",
   "source": [
    "# YT-DLP options\n",
    "def get_opts(output_path):\n",
    "    return {\n",
    "        'format': 'bestaudio/best',\n",
    "        'outtmpl': output_path,\n",
    "        'postprocessors': [{\n",
    "            'key': 'FFmpegExtractAudio',\n",
    "            'preferredcodec': 'mp3',\n",
    "            'preferredquality': '192',\n",
    "        }],\n",
    "        'quiet': False,\n",
    "        'noplaylist': True,\n",
    "    }"
   ],
   "id": "2e1341dd6b82d666",
   "outputs": [],
   "execution_count": null
  },
  {
   "metadata": {},
   "cell_type": "code",
   "source": [
    "# Creates a clean filename for the mp3 files\n",
    "def clean_filename(s):\n",
    "    return re.sub(r'[\\\\/*?:\"<>|]', \"\", s.replace(\" \", \"_\"))"
   ],
   "id": "27b350a3cf2e8bd1",
   "outputs": [],
   "execution_count": null
  },
  {
   "metadata": {},
   "cell_type": "code",
   "source": [
    "# Download Loop, record by record\n",
    "for index, row in df.iterrows():\n",
    "    orig_song = clean_filename(row['Original Song'])\n",
    "    orig_artist = clean_filename(row['Original Artist'])\n",
    "    second_song = clean_filename(row['Second Song'])\n",
    "    second_artist = clean_filename(row['Second Artist'])\n",
    "    orig_url = row['Original Song YouTube Link']\n",
    "    second_url = row['Second Song Youtube Link']\n",
    "\n",
    "    row_id = f\"{index+1:03d}\"\n",
    "\n",
    "    # Build filenames\n",
    "    orig_filename = os.path.join(\n",
    "        output_dir,\n",
    "        f\"{row_id}_original_{orig_song}_by_{orig_artist}.%(ext)s\"\n",
    "    )\n",
    "    second_filename = os.path.join(\n",
    "        output_dir,\n",
    "        f\"{row_id}_second_{second_song}_by_{second_artist}.%(ext)s\"\n",
    "    )\n",
    "\n",
    "    try:\n",
    "        with yt_dlp.YoutubeDL(get_opts(orig_filename)) as ydl:\n",
    "            print(f\"Downloading original: {orig_song} by {orig_artist}\")\n",
    "            ydl.download([orig_url])\n",
    "    except Exception as e:\n",
    "        print(f\"Failed to download original song at {orig_url}: {e}\")\n",
    "\n",
    "    try:\n",
    "        with yt_dlp.YoutubeDL(get_opts(second_filename)) as ydl:\n",
    "            print(f\"Downloading second: {second_song} by {second_artist}\")\n",
    "            ydl.download([second_url])\n",
    "    except Exception as e:\n",
    "        print(f\"Failed to download second song at {second_url}: {e}\")"
   ],
   "id": "76e323f8fd580e3f",
   "outputs": [],
   "execution_count": null
  },
  {
   "metadata": {
    "ExecuteTime": {
     "end_time": "2025-04-15T18:36:23.113691Z",
     "start_time": "2025-04-15T18:36:23.109954Z"
    }
   },
   "cell_type": "code",
   "source": [
    "output_dir = \"songs_mp3\"\n",
    "mp3_files = [f for f in os.listdir(output_dir) if f.lower().endswith(\".mp3\")]\n",
    "\n",
    "print(f\"Total MP3 files downloaded: {len(mp3_files)}\")"
   ],
   "id": "af5fbd2f7f7a798c",
   "outputs": [
    {
     "name": "stdout",
     "output_type": "stream",
     "text": [
      "Total MP3 files downloaded: 175\n"
     ]
    }
   ],
   "execution_count": 15
  }
 ],
 "metadata": {
  "kernelspec": {
   "name": "python3",
   "language": "python",
   "display_name": "Python 3 (ipykernel)"
  }
 },
 "nbformat": 5,
 "nbformat_minor": 9
}
