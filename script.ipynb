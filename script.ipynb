{
 "cells": [
  {
   "metadata": {},
   "cell_type": "markdown",
   "source": [
    "<h1><b>COMP 432 - Machine Learning</b> | <b>Final Project</b> (W2025)</h1>\n",
    "<h3>Machine Learning Model to detect Copyright Infringement in Music</h3>\n",
    "Written by Sisahga Phimmasone - 40210015<br>\n",
    "April 20th, 2025\n"
   ],
   "id": "b41bf3e220dbace6"
  },
  {
   "metadata": {},
   "cell_type": "markdown",
   "source": [
    "<h3><b>1. Data Preparation and Cleaning</b></h3>\n",
    "\n",
    "The code cells below convert YouTube video links of pairs of songs from the list of historically known copyright infringement cases to MP3.\n",
    "\n",
    "https://en.wikipedia.org/wiki/List_of_songs_subject_to_plagiarism_disputes\n",
    "\n",
    "See 'copyright_cases.csv' file.\n",
    "Uses yt_dlp library to output YouTube video URLs to .mp3"
   ],
   "id": "850eb7e266f03ef8"
  },
  {
   "metadata": {},
   "cell_type": "markdown",
   "source": "<h4><b>1.1 Convert YouTube URLs to MP3 with yt_dlp</b></h4>",
   "id": "9aa66d5ad417b613"
  },
  {
   "metadata": {
    "tags": [
     "Convert YouTube to MP3"
    ]
   },
   "cell_type": "code",
   "source": [
    "import yt_dlp\n",
    "import pandas as pd\n",
    "import os\n",
    "import re"
   ],
   "id": "3917e72eaf277278",
   "outputs": [],
   "execution_count": null
  },
  {
   "metadata": {
    "tags": [
     "Convert YouTube to MP3"
    ]
   },
   "cell_type": "code",
   "source": [
    "mp3_song_dir = \"songs_mp3\"\n",
    "os.makedirs(mp3_song_dir, exist_ok=True)\n",
    "df = pd.read_csv(\"copyright_cases.csv\")"
   ],
   "id": "c1ca5f777de7ce66",
   "outputs": [],
   "execution_count": null
  },
  {
   "metadata": {
    "tags": [
     "Convert YouTube to MP3"
    ]
   },
   "cell_type": "code",
   "source": [
    "# YT-DLP options\n",
    "def get_opts(output_path):\n",
    "    return {\n",
    "        'format': 'bestaudio/best',\n",
    "        'outtmpl': output_path,\n",
    "        'postprocessors': [{\n",
    "            'key': 'FFmpegExtractAudio',\n",
    "            'preferredcodec': 'mp3',\n",
    "            'preferredquality': '192',\n",
    "        }],\n",
    "        'quiet': False,\n",
    "        'noplaylist': True,\n",
    "    }"
   ],
   "id": "2e1341dd6b82d666",
   "outputs": [],
   "execution_count": null
  },
  {
   "metadata": {
    "tags": [
     "Convert YouTube to MP3"
    ]
   },
   "cell_type": "code",
   "source": [
    "# Creates a clean filename for the mp3 files\n",
    "def clean_filename(s):\n",
    "    return re.sub(r'[\\\\/*?:\"<>|]', \"\", s.replace(\" \", \"_\"))"
   ],
   "id": "27b350a3cf2e8bd1",
   "outputs": [],
   "execution_count": null
  },
  {
   "metadata": {
    "tags": [
     "Convert YouTube to MP3"
    ]
   },
   "cell_type": "code",
   "source": [
    "# Download Loop, record by record\n",
    "for index, row in df.iterrows():\n",
    "    orig_song = clean_filename(row['Original Song'])\n",
    "    orig_artist = clean_filename(row['Original Artist'])\n",
    "    second_song = clean_filename(row['Second Song'])\n",
    "    second_artist = clean_filename(row['Second Artist'])\n",
    "    orig_url = row['Original Song YouTube Link']\n",
    "    second_url = row['Second Song Youtube Link']\n",
    "\n",
    "    row_id = f\"{index+1:03d}\"\n",
    "\n",
    "    # Build filenames\n",
    "    orig_filename = os.path.join(\n",
    "        mp3_song_dir,\n",
    "        f\"{row_id}_original_{orig_song}_by_{orig_artist}.%(ext)s\"\n",
    "    )\n",
    "    second_filename = os.path.join(\n",
    "        mp3_song_dir,\n",
    "        f\"{row_id}_second_{second_song}_by_{second_artist}.%(ext)s\"\n",
    "    )\n",
    "\n",
    "    try:\n",
    "        with yt_dlp.YoutubeDL(get_opts(orig_filename)) as ydl:\n",
    "            print(f\"Downloading original: {orig_song} by {orig_artist}\")\n",
    "            ydl.download([orig_url])\n",
    "    except Exception as e:\n",
    "        print(f\"Failed to download original song at {orig_url}: {e}\")\n",
    "\n",
    "    try:\n",
    "        with yt_dlp.YoutubeDL(get_opts(second_filename)) as ydl:\n",
    "            print(f\"Downloading second: {second_song} by {second_artist}\")\n",
    "            ydl.download([second_url])\n",
    "    except Exception as e:\n",
    "        print(f\"Failed to download second song at {second_url}: {e}\")"
   ],
   "id": "76e323f8fd580e3f",
   "outputs": [],
   "execution_count": null
  },
  {
   "metadata": {
    "tags": [
     "Convert YouTube to MP3"
    ]
   },
   "cell_type": "code",
   "source": [
    "# Check how many files were downloaded (should be 176)\n",
    "mp3_files = [f for f in os.listdir(mp3_song_dir) if f.lower().endswith(\".mp3\")]\n",
    "print(f\"Total MP3 files downloaded: {len(mp3_files)}\")"
   ],
   "id": "af5fbd2f7f7a798c",
   "outputs": [],
   "execution_count": null
  },
  {
   "metadata": {},
   "cell_type": "markdown",
   "source": "<h4><b>1.2 Create Data Structure for known copyrighted song pairings</b></h4>",
   "id": "b560301a5ad5b7a2"
  },
  {
   "metadata": {
    "tags": [
     "Preprocess known copyright pairs"
    ]
   },
   "cell_type": "code",
   "source": [
    "import numpy as np\n",
    "import librosa\n",
    "import pickle"
   ],
   "id": "f96d080db2cb9f30",
   "outputs": [],
   "execution_count": null
  },
  {
   "metadata": {
    "tags": [
     "Preprocess known copyright pairs"
    ]
   },
   "cell_type": "code",
   "source": [
    "# Librosa Configuration\n",
    "AUDIO_DIR = mp3_song_dir\n",
    "SR = 16000\n",
    "DURATION = 10\n",
    "TARGET_LEN = DURATION * SR"
   ],
   "id": "c78584cd90cef836",
   "outputs": [],
   "execution_count": null
  },
  {
   "metadata": {
    "ExecuteTime": {
     "end_time": "2025-04-15T21:09:40.449101Z",
     "start_time": "2025-04-15T21:09:40.442098Z"
    },
    "tags": [
     "Preprocess known copyright pairs"
    ]
   },
   "cell_type": "code",
   "source": [
    "def preprocess_audio(audio_path):\n",
    "    \"\"\"Preprocesses .mp3 audio files with specified Librosa Configuration above. Splits each song into chunks of 10 seconds.\n",
    "\n",
    "    :param audio_path: Path to audio file\n",
    "    :return list: A list of numpy arrays, where each array is a 10-second audio chunk of size TARGET_LEN of a song.\n",
    "    \"\"\"\n",
    "\n",
    "    audio, sr = librosa.load(audio_path, sr=None)\n",
    "\n",
    "    # Trim silent parts (set to top off lower than 20DB)\n",
    "    audio, _ = librosa.effects.trim(audio, top_db=20)\n",
    "\n",
    "    # Resample to 16kHz for Wave2Vec2\n",
    "    if sr != SR:\n",
    "        audio = librosa.resample(audio, orig_sr=sr, target_sr=SR)\n",
    "\n",
    "    # Split song into 10-second chunks of 16kHz\n",
    "    segments = []\n",
    "    for i in range(0, len(audio), TARGET_LEN):\n",
    "        segment = audio[i: (i + TARGET_LEN)]\n",
    "        # If the segment is shorter than TARGET_LEN (i.e. last part of song), pad with zeros for uniformity\n",
    "        if len(segment) < TARGET_LEN:\n",
    "            segment = np.pad(segment, (0, TARGET_LEN - len(segment)), mode='constant')\n",
    "\n",
    "        segments.append(segment)\n",
    "\n",
    "    return segments"
   ],
   "id": "b217ff92343e4b5d",
   "outputs": [],
   "execution_count": 29
  },
  {
   "metadata": {
    "tags": [
     "Preprocess known copyright pairs"
    ]
   },
   "cell_type": "code",
   "source": [
    "def get_pair_id(audio_filename):\n",
    "    \"\"\"Retrieves pairs of known copyrighted cases from the songs_mp3 directory.\n",
    "\n",
    "    :param audio_filename: Path to audio file\n",
    "    :return: pair_id (str): The pair ID (i.e. \"001\")\n",
    "    \"\"\"\n",
    "    match = re.match(r\"(\\d{3})_\", audio_filename)\n",
    "    return match.group(1) if match else None"
   ],
   "id": "b493a3ce18c39d54",
   "outputs": [],
   "execution_count": null
  },
  {
   "metadata": {
    "tags": [
     "Preprocess known copyright pairs"
    ]
   },
   "cell_type": "code",
   "outputs": [],
   "execution_count": null,
   "source": [
    "# Group song mp3 files by pair ID\n",
    "pairs = {}\n",
    "for fname in os.listdir(mp3_song_dir):\n",
    "    if fname.endswith(\".mp3\"):\n",
    "        pair_id = get_pair_id(fname)\n",
    "        if pair_id:\n",
    "            pairs.setdefault(pair_id, []).append(fname)"
   ],
   "id": "601a3aa41f006b06"
  },
  {
   "metadata": {
    "tags": [
     "Preprocess known copyright pairs"
    ]
   },
   "cell_type": "code",
   "outputs": [],
   "execution_count": null,
   "source": [
    "# Build dataset from the pairs dictionary intialized in the cell above, preprocess them, and save to pickle file\n",
    "dataset = []\n",
    "preprocessed_output_dir = \"preprocessed_pairs\"\n",
    "os.makedirs(preprocessed_output_dir, exist_ok=True)\n",
    "\n",
    "for pair_id, files in pairs.items():\n",
    "    if len(files) < 2:\n",
    "        print(f\"Skipping {pair_id} expected 2 files but got {len(files)}\")\n",
    "        continue\n",
    "\n",
    "    files = sorted(files) # Original songs [0], copies [1]\n",
    "    og_song = os.path.join(mp3_song_dir, files[0])\n",
    "    copy_song = os.path.join(mp3_song_dir, files[1])\n",
    "\n",
    "    print(f\"Processing pair {pair_id}...\")\n",
    "    segments1 = preprocess_audio(og_song)\n",
    "    print(f\"Preprocessed original song segments: {len(segments1)}\")\n",
    "    segments2 = preprocess_audio(copy_song)\n",
    "    print(f\"Preprocessed copied song segments: {len(segments2)}\")\n",
    "\n",
    "    label = True # True since we are preprocessing all pairs of known copyright infringement cases\n",
    "\n",
    "    pair_data = {\n",
    "        \"pair_id\": pair_id,\n",
    "        \"original_song_segments\": segments1,\n",
    "        \"copied_song_segments\": segments2,\n",
    "        \"label\": label,\n",
    "    }\n",
    "\n",
    "    with open(os.path.join(preprocessed_output_dir, f\"{pair_id}.pkl\"), \"wb\") as f:\n",
    "        pickle.dump(pair_data, f)\n",
    "    print(f\"Saved pair {pair_id} to pickle.\")\n",
    "\n",
    "    dataset.append(pair_data)"
   ],
   "id": "bb96d8da14c79962"
  }
 ],
 "metadata": {
  "kernelspec": {
   "name": "python3",
   "language": "python",
   "display_name": "Python 3 (ipykernel)"
  }
 },
 "nbformat": 5,
 "nbformat_minor": 9
}
